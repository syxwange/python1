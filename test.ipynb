{
 "metadata": {
  "language_info": {
   "codemirror_mode": {
    "name": "ipython",
    "version": 3
   },
   "file_extension": ".py",
   "mimetype": "text/x-python",
   "name": "python",
   "nbconvert_exporter": "python",
   "pygments_lexer": "ipython3",
   "version": "3.8.6"
  },
  "orig_nbformat": 4,
  "kernelspec": {
   "name": "python3",
   "display_name": "Python 3.8.6 64-bit"
  },
  "interpreter": {
   "hash": "916dbcbb3f70747c44a77c7bcd40155683ae19c65e1c03b4aa3499c5328201f1"
  }
 },
 "nbformat": 4,
 "nbformat_minor": 2,
 "cells": [
  {
   "cell_type": "code",
   "execution_count": 1,
   "metadata": {},
   "outputs": [],
   "source": [
    "import redis\n"
   ]
  },
  {
   "cell_type": "code",
   "execution_count": 2,
   "metadata": {},
   "outputs": [],
   "source": [
    "db = redis.StrictRedis(host='127.0.0.1',port=6379,password=None,db=0)\n"
   ]
  },
  {
   "cell_type": "code",
   "execution_count": 4,
   "metadata": {},
   "outputs": [],
   "source": [
    "import fake_headers\n"
   ]
  },
  {
   "cell_type": "code",
   "execution_count": 24,
   "metadata": {},
   "outputs": [],
   "source": [
    "BASE_URL = 'http://www.ip3366.net/free/?stype={stype}&page={page}'"
   ]
  },
  {
   "cell_type": "code",
   "execution_count": 26,
   "metadata": {},
   "outputs": [
    {
     "output_type": "execute_result",
     "data": {
      "text/plain": [
       "['http://www.ip3366.net/free/?stype=1&page=1',\n",
       " 'http://www.ip3366.net/free/?stype=1&page=2',\n",
       " 'http://www.ip3366.net/free/?stype=1&page=3',\n",
       " 'http://www.ip3366.net/free/?stype=1&page=4',\n",
       " 'http://www.ip3366.net/free/?stype=1&page=5',\n",
       " 'http://www.ip3366.net/free/?stype=1&page=6',\n",
       " 'http://www.ip3366.net/free/?stype=1&page=7',\n",
       " 'http://www.ip3366.net/free/?stype=2&page=1',\n",
       " 'http://www.ip3366.net/free/?stype=2&page=2',\n",
       " 'http://www.ip3366.net/free/?stype=2&page=3',\n",
       " 'http://www.ip3366.net/free/?stype=2&page=4',\n",
       " 'http://www.ip3366.net/free/?stype=2&page=5',\n",
       " 'http://www.ip3366.net/free/?stype=2&page=6',\n",
       " 'http://www.ip3366.net/free/?stype=2&page=7']"
      ]
     },
     "metadata": {},
     "execution_count": 26
    }
   ],
   "source": [
    " [BASE_URL.format(stype=stype,page=i) for stype in range(1,3) for i in range(1, 8)]"
   ]
  },
  {
   "cell_type": "code",
   "execution_count": 8,
   "metadata": {},
   "outputs": [
    {
     "output_type": "execute_result",
     "data": {
      "text/plain": [
       "{'Accept': '*/*',\n",
       " 'Connection': 'keep-alive',\n",
       " 'User-Agent': 'Mozilla/5.0 (Windows NT 10.0; WOW64; rv:59.0.1) Gecko/20100101 Firefox/59.0.1',\n",
       " 'Accept-Encoding': 'gzip, deflate, br',\n",
       " 'Referer': 'https://google.com'}"
      ]
     },
     "metadata": {},
     "execution_count": 8
    }
   ],
   "source": [
    "headers"
   ]
  },
  {
   "cell_type": "code",
   "execution_count": 3,
   "metadata": {},
   "outputs": [
    {
     "output_type": "error",
     "ename": "NameError",
     "evalue": "name 'db' is not defined",
     "traceback": [
      "\u001b[0;31m---------------------------------------------------------------------------\u001b[0m",
      "\u001b[0;31mNameError\u001b[0m                                 Traceback (most recent call last)",
      "\u001b[0;32m/tmp/ipykernel_8605/3238532145.py\u001b[0m in \u001b[0;36m<module>\u001b[0;34m\u001b[0m\n\u001b[0;32m----> 1\u001b[0;31m \u001b[0mdb\u001b[0m\u001b[0;34m.\u001b[0m\u001b[0mset\u001b[0m\u001b[0;34m(\u001b[0m\u001b[0;34m'aaa'\u001b[0m\u001b[0;34m,\u001b[0m\u001b[0;36m1234\u001b[0m\u001b[0;34m)\u001b[0m\u001b[0;34m\u001b[0m\u001b[0;34m\u001b[0m\u001b[0m\n\u001b[0m",
      "\u001b[0;31mNameError\u001b[0m: name 'db' is not defined"
     ]
    }
   ],
   "source": [
    "db.set('aaa',1234)"
   ]
  },
  {
   "cell_type": "code",
   "execution_count": 3,
   "metadata": {},
   "outputs": [
    {
     "output_type": "execute_result",
     "data": {
      "text/plain": [
       "[b'aaa']"
      ]
     },
     "metadata": {},
     "execution_count": 3
    }
   ],
   "source": [
    "db.keys()"
   ]
  },
  {
   "cell_type": "code",
   "execution_count": 19,
   "metadata": {},
   "outputs": [
    {
     "output_type": "execute_result",
     "data": {
      "text/plain": [
       "True"
      ]
     },
     "metadata": {},
     "execution_count": 19
    }
   ],
   "source": [
    "db.bgsave()"
   ]
  },
  {
   "cell_type": "code",
   "execution_count": 86,
   "metadata": {},
   "outputs": [
    {
     "output_type": "execute_result",
     "data": {
      "text/plain": [
       "True"
      ]
     },
     "metadata": {},
     "execution_count": 86
    }
   ],
   "source": [
    "db.flushall()"
   ]
  },
  {
   "cell_type": "code",
   "execution_count": 8,
   "metadata": {},
   "outputs": [
    {
     "output_type": "error",
     "ename": "NameError",
     "evalue": "name 'proxyRedis' is not defined",
     "traceback": [
      "\u001b[0;31m---------------------------------------------------------------------------\u001b[0m",
      "\u001b[0;31mNameError\u001b[0m                                 Traceback (most recent call last)",
      "\u001b[0;32m/tmp/ipykernel_2068/4173898271.py\u001b[0m in \u001b[0;36m<module>\u001b[0;34m\u001b[0m\n\u001b[0;32m----> 1\u001b[0;31m \u001b[0maa\u001b[0m \u001b[0;34m=\u001b[0m \u001b[0mproxyRedis\u001b[0m\u001b[0;34m.\u001b[0m\u001b[0mRedisClient\u001b[0m\u001b[0;34m(\u001b[0m\u001b[0;34m)\u001b[0m\u001b[0;34m\u001b[0m\u001b[0;34m\u001b[0m\u001b[0m\n\u001b[0m",
      "\u001b[0;31mNameError\u001b[0m: name 'proxyRedis' is not defined"
     ]
    }
   ],
   "source": [
    "aa = proxyRedis.RedisClient()"
   ]
  },
  {
   "cell_type": "code",
   "execution_count": 110,
   "metadata": {},
   "outputs": [
    {
     "output_type": "execute_result",
     "data": {
      "text/plain": [
       "1"
      ]
     },
     "metadata": {},
     "execution_count": 110
    }
   ],
   "source": [
    "aa.add('127.133.13.1:5230')"
   ]
  },
  {
   "cell_type": "code",
   "execution_count": 71,
   "metadata": {},
   "outputs": [
    {
     "output_type": "execute_result",
     "data": {
      "text/plain": [
       "1"
      ]
     },
     "metadata": {},
     "execution_count": 71
    }
   ],
   "source": [
    "aa.add('127.242.12.122:2260',30)"
   ]
  },
  {
   "cell_type": "code",
   "execution_count": 136,
   "metadata": {},
   "outputs": [
    {
     "output_type": "execute_result",
     "data": {
      "text/plain": [
       "0"
      ]
     },
     "metadata": {},
     "execution_count": 136
    }
   ],
   "source": [
    "aa.count()"
   ]
  },
  {
   "cell_type": "code",
   "execution_count": 7,
   "metadata": {},
   "outputs": [
    {
     "output_type": "stream",
     "name": "stderr",
     "text": [
      "2021-07-16 22:29:33.842 | INFO     | proxyRedis:decrease:80 - 127.0.4.1:5560 score decrease 1, current 9.0\n"
     ]
    }
   ],
   "source": [
    "aa.decrease('127.0.4.1:5560')"
   ]
  },
  {
   "cell_type": "code",
   "execution_count": 8,
   "metadata": {},
   "outputs": [
    {
     "output_type": "execute_result",
     "data": {
      "text/plain": [
       "'127.0.4.1:5560'"
      ]
     },
     "metadata": {},
     "execution_count": 8
    }
   ],
   "source": [
    "aa.random()"
   ]
  }
 ]
}